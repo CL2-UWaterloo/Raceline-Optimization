{
 "cells": [
  {
   "cell_type": "code",
   "execution_count": 3,
   "metadata": {},
   "outputs": [],
   "source": [
    "import matplotlib.pyplot as plt\n",
    "import pandas as pd"
   ]
  },
  {
   "cell_type": "code",
   "execution_count": 4,
   "metadata": {},
   "outputs": [
    {
     "data": {
      "text/html": [
       "<div>\n",
       "<style scoped>\n",
       "    .dataframe tbody tr th:only-of-type {\n",
       "        vertical-align: middle;\n",
       "    }\n",
       "\n",
       "    .dataframe tbody tr th {\n",
       "        vertical-align: top;\n",
       "    }\n",
       "\n",
       "    .dataframe thead th {\n",
       "        text-align: right;\n",
       "    }\n",
       "</style>\n",
       "<table border=\"1\" class=\"dataframe\">\n",
       "  <thead>\n",
       "    <tr style=\"text-align: right;\">\n",
       "      <th></th>\n",
       "      <th>x</th>\n",
       "      <th>y</th>\n",
       "      <th>velocity</th>\n",
       "    </tr>\n",
       "  </thead>\n",
       "  <tbody>\n",
       "    <tr>\n",
       "      <th>0</th>\n",
       "      <td>-0.518137</td>\n",
       "      <td>-13.939876</td>\n",
       "      <td>4.646782</td>\n",
       "    </tr>\n",
       "    <tr>\n",
       "      <th>1</th>\n",
       "      <td>-0.620044</td>\n",
       "      <td>-13.350050</td>\n",
       "      <td>4.857703</td>\n",
       "    </tr>\n",
       "    <tr>\n",
       "      <th>2</th>\n",
       "      <td>-0.685272</td>\n",
       "      <td>-12.756071</td>\n",
       "      <td>5.070050</td>\n",
       "    </tr>\n",
       "    <tr>\n",
       "      <th>3</th>\n",
       "      <td>-0.723744</td>\n",
       "      <td>-12.158115</td>\n",
       "      <td>5.283839</td>\n",
       "    </tr>\n",
       "    <tr>\n",
       "      <th>4</th>\n",
       "      <td>-0.741384</td>\n",
       "      <td>-11.560917</td>\n",
       "      <td>5.527457</td>\n",
       "    </tr>\n",
       "    <tr>\n",
       "      <th>...</th>\n",
       "      <td>...</td>\n",
       "      <td>...</td>\n",
       "      <td>...</td>\n",
       "    </tr>\n",
       "    <tr>\n",
       "      <th>98</th>\n",
       "      <td>0.551010</td>\n",
       "      <td>-16.055257</td>\n",
       "      <td>4.471226</td>\n",
       "    </tr>\n",
       "    <tr>\n",
       "      <th>99</th>\n",
       "      <td>0.173950</td>\n",
       "      <td>-15.584854</td>\n",
       "      <td>4.399960</td>\n",
       "    </tr>\n",
       "    <tr>\n",
       "      <th>100</th>\n",
       "      <td>-0.132627</td>\n",
       "      <td>-15.076995</td>\n",
       "      <td>4.352836</td>\n",
       "    </tr>\n",
       "    <tr>\n",
       "      <th>101</th>\n",
       "      <td>-0.363859</td>\n",
       "      <td>-14.520094</td>\n",
       "      <td>4.330165</td>\n",
       "    </tr>\n",
       "    <tr>\n",
       "      <th>102</th>\n",
       "      <td>-0.518137</td>\n",
       "      <td>-13.939876</td>\n",
       "      <td>4.646782</td>\n",
       "    </tr>\n",
       "  </tbody>\n",
       "</table>\n",
       "<p>103 rows × 3 columns</p>\n",
       "</div>"
      ],
      "text/plain": [
       "            x          y  velocity\n",
       "0   -0.518137 -13.939876  4.646782\n",
       "1   -0.620044 -13.350050  4.857703\n",
       "2   -0.685272 -12.756071  5.070050\n",
       "3   -0.723744 -12.158115  5.283839\n",
       "4   -0.741384 -11.560917  5.527457\n",
       "..        ...        ...       ...\n",
       "98   0.551010 -16.055257  4.471226\n",
       "99   0.173950 -15.584854  4.399960\n",
       "100 -0.132627 -15.076995  4.352836\n",
       "101 -0.363859 -14.520094  4.330165\n",
       "102 -0.518137 -13.939876  4.646782\n",
       "\n",
       "[103 rows x 3 columns]"
      ]
     },
     "execution_count": 4,
     "metadata": {},
     "output_type": "execute_result"
    }
   ],
   "source": [
    "raw_data = pd.read_csv(\"outputs/e7_floor5/traj_race_cl-2023-02-15 17:47:17.315094.csv\")\n",
    "raw_data"
   ]
  },
  {
   "cell_type": "code",
   "execution_count": 13,
   "metadata": {},
   "outputs": [
    {
     "data": {
      "text/plain": [
       "[<matplotlib.lines.Line2D at 0x7fe5fb8e3b50>]"
      ]
     },
     "execution_count": 13,
     "metadata": {},
     "output_type": "execute_result"
    },
    {
     "data": {
      "image/png": "[encoded data removed]",
      "text/plain": [
       "<Figure size 648x648 with 1 Axes>"
      ]
     },
     "metadata": {
      "needs_background": "light"
     },
     "output_type": "display_data"
    }
   ],
   "source": [
    "plt.figure(figsize=(9,9))\n",
    "plt.plot(raw_data[\"x\"], raw_data[\"y\"])"
   ]
  },
  {
   "cell_type": "code",
   "execution_count": 6,
   "metadata": {},
   "outputs": [],
   "source": [
    "waypoints = []"
   ]
  },
  {
   "cell_type": "code",
   "execution_count": 7,
   "metadata": {},
   "outputs": [
    {
     "data": {
      "text/html": [
       "<div>\n",
       "<style scoped>\n",
       "    .dataframe tbody tr th:only-of-type {\n",
       "        vertical-align: middle;\n",
       "    }\n",
       "\n",
       "    .dataframe tbody tr th {\n",
       "        vertical-align: top;\n",
       "    }\n",
       "\n",
       "    .dataframe thead th {\n",
       "        text-align: right;\n",
       "    }\n",
       "</style>\n",
       "<table border=\"1\" class=\"dataframe\">\n",
       "  <thead>\n",
       "    <tr style=\"text-align: right;\">\n",
       "      <th></th>\n",
       "      <th># x_m</th>\n",
       "      <th>y_m</th>\n",
       "      <th>w_tr_right_m</th>\n",
       "      <th>w_tr_left_m</th>\n",
       "    </tr>\n",
       "  </thead>\n",
       "  <tbody>\n",
       "    <tr>\n",
       "      <th>0</th>\n",
       "      <td>43.202</td>\n",
       "      <td>1.038880</td>\n",
       "      <td>1.12348</td>\n",
       "      <td>0.84696</td>\n",
       "    </tr>\n",
       "    <tr>\n",
       "      <th>1</th>\n",
       "      <td>43.390</td>\n",
       "      <td>1.242940</td>\n",
       "      <td>1.08400</td>\n",
       "      <td>0.87252</td>\n",
       "    </tr>\n",
       "    <tr>\n",
       "      <th>2</th>\n",
       "      <td>43.528</td>\n",
       "      <td>1.394580</td>\n",
       "      <td>1.08446</td>\n",
       "      <td>0.87474</td>\n",
       "    </tr>\n",
       "    <tr>\n",
       "      <th>3</th>\n",
       "      <td>43.666</td>\n",
       "      <td>1.546180</td>\n",
       "      <td>1.08456</td>\n",
       "      <td>0.87678</td>\n",
       "    </tr>\n",
       "    <tr>\n",
       "      <th>4</th>\n",
       "      <td>43.806</td>\n",
       "      <td>1.697740</td>\n",
       "      <td>1.08440</td>\n",
       "      <td>0.87846</td>\n",
       "    </tr>\n",
       "    <tr>\n",
       "      <th>...</th>\n",
       "      <td>...</td>\n",
       "      <td>...</td>\n",
       "      <td>...</td>\n",
       "      <td>...</td>\n",
       "    </tr>\n",
       "    <tr>\n",
       "      <th>2361</th>\n",
       "      <td>42.408</td>\n",
       "      <td>0.168622</td>\n",
       "      <td>1.08204</td>\n",
       "      <td>0.88314</td>\n",
       "    </tr>\n",
       "    <tr>\n",
       "      <th>2362</th>\n",
       "      <td>42.548</td>\n",
       "      <td>0.321580</td>\n",
       "      <td>1.08296</td>\n",
       "      <td>0.88290</td>\n",
       "    </tr>\n",
       "    <tr>\n",
       "      <th>2363</th>\n",
       "      <td>42.688</td>\n",
       "      <td>0.474920</td>\n",
       "      <td>1.08378</td>\n",
       "      <td>0.88254</td>\n",
       "    </tr>\n",
       "    <tr>\n",
       "      <th>2364</th>\n",
       "      <td>42.828</td>\n",
       "      <td>0.628560</td>\n",
       "      <td>1.12368</td>\n",
       "      <td>0.85366</td>\n",
       "    </tr>\n",
       "    <tr>\n",
       "      <th>2365</th>\n",
       "      <td>43.016</td>\n",
       "      <td>0.834040</td>\n",
       "      <td>1.12362</td>\n",
       "      <td>0.85260</td>\n",
       "    </tr>\n",
       "  </tbody>\n",
       "</table>\n",
       "<p>2366 rows × 4 columns</p>\n",
       "</div>"
      ],
      "text/plain": [
       "       # x_m       y_m  w_tr_right_m  w_tr_left_m\n",
       "0     43.202  1.038880       1.12348      0.84696\n",
       "1     43.390  1.242940       1.08400      0.87252\n",
       "2     43.528  1.394580       1.08446      0.87474\n",
       "3     43.666  1.546180       1.08456      0.87678\n",
       "4     43.806  1.697740       1.08440      0.87846\n",
       "...      ...       ...           ...          ...\n",
       "2361  42.408  0.168622       1.08204      0.88314\n",
       "2362  42.548  0.321580       1.08296      0.88290\n",
       "2363  42.688  0.474920       1.08378      0.88254\n",
       "2364  42.828  0.628560       1.12368      0.85366\n",
       "2365  43.016  0.834040       1.12362      0.85260\n",
       "\n",
       "[2366 rows x 4 columns]"
      ]
     },
     "execution_count": 7,
     "metadata": {},
     "output_type": "execute_result"
    }
   ],
   "source": [
    "berlin_map = pd.read_csv(\"inputs/tracks/berlin_2018.csv\")\n",
    "small_berlin_map = berlin_map * 0.2\n",
    "# small_berlin_map[\"# x_m\"] = small_berlin_map[\"# x_m\"]* 0.1\n",
    "# small_berlin_map[\"y_m\"] = small_berlin_map[\"y_m\"]* 0.1\n",
    "small_berlin_map"
   ]
  },
  {
   "cell_type": "code",
   "execution_count": 9,
   "metadata": {},
   "outputs": [],
   "source": [
    "small_berlin_map.to_csv(\"f110_berlin.csv\", index=False)"
   ]
  },
  {
   "cell_type": "code",
   "execution_count": null,
   "metadata": {},
   "outputs": [],
   "source": []
  }
 ],
 "metadata": {
  "kernelspec": {
   "display_name": "Python 3",
   "language": "python",
   "name": "python3"
  },
  "language_info": {
   "codemirror_mode": {
    "name": "ipython",
    "version": 3
   },
   "file_extension": ".py",
   "mimetype": "text/x-python",
   "name": "python",
   "nbconvert_exporter": "python",
   "pygments_lexer": "ipython3",
   "version": "3.8.10"
  },
  "orig_nbformat": 4,
  "vscode": {
   "interpreter": {
    "hash": "36cf16204b8548560b1c020c4e8fb5b57f0e4c58016f52f2d4be01e192833930"
   }
  }
 },
 "nbformat": 4,
 "nbformat_minor": 2
}
