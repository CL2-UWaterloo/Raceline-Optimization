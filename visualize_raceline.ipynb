{
 "cells": [
  {
   "cell_type": "code",
   "execution_count": 1,
   "metadata": {},
   "outputs": [],
   "source": [
    "import matplotlib.pyplot as plt\n",
    "import pandas as pd"
   ]
  },
  {
   "cell_type": "code",
   "execution_count": 5,
   "metadata": {},
   "outputs": [
    {
     "data": {
      "text/html": [
       "<div>\n",
       "<style scoped>\n",
       "    .dataframe tbody tr th:only-of-type {\n",
       "        vertical-align: middle;\n",
       "    }\n",
       "\n",
       "    .dataframe tbody tr th {\n",
       "        vertical-align: top;\n",
       "    }\n",
       "\n",
       "    .dataframe thead th {\n",
       "        text-align: right;\n",
       "    }\n",
       "</style>\n",
       "<table border=\"1\" class=\"dataframe\">\n",
       "  <thead>\n",
       "    <tr style=\"text-align: right;\">\n",
       "      <th></th>\n",
       "      <th>x</th>\n",
       "      <th>y</th>\n",
       "      <th>velocity</th>\n",
       "    </tr>\n",
       "  </thead>\n",
       "  <tbody>\n",
       "    <tr>\n",
       "      <th>0</th>\n",
       "      <td>42.830658</td>\n",
       "      <td>1.351990</td>\n",
       "      <td>11.456892</td>\n",
       "    </tr>\n",
       "    <tr>\n",
       "      <th>1</th>\n",
       "      <td>43.245876</td>\n",
       "      <td>1.783983</td>\n",
       "      <td>11.522280</td>\n",
       "    </tr>\n",
       "    <tr>\n",
       "      <th>2</th>\n",
       "      <td>43.661491</td>\n",
       "      <td>2.215725</td>\n",
       "      <td>11.586708</td>\n",
       "    </tr>\n",
       "    <tr>\n",
       "      <th>3</th>\n",
       "      <td>44.077569</td>\n",
       "      <td>2.647209</td>\n",
       "      <td>11.650178</td>\n",
       "    </tr>\n",
       "    <tr>\n",
       "      <th>4</th>\n",
       "      <td>44.493867</td>\n",
       "      <td>3.078159</td>\n",
       "      <td>11.711809</td>\n",
       "    </tr>\n",
       "    <tr>\n",
       "      <th>...</th>\n",
       "      <td>...</td>\n",
       "      <td>...</td>\n",
       "      <td>...</td>\n",
       "    </tr>\n",
       "    <tr>\n",
       "      <th>766</th>\n",
       "      <td>41.172777</td>\n",
       "      <td>-0.379459</td>\n",
       "      <td>11.180252</td>\n",
       "    </tr>\n",
       "    <tr>\n",
       "      <th>767</th>\n",
       "      <td>41.586688</td>\n",
       "      <td>0.053944</td>\n",
       "      <td>11.251745</td>\n",
       "    </tr>\n",
       "    <tr>\n",
       "      <th>768</th>\n",
       "      <td>42.000973</td>\n",
       "      <td>0.486962</td>\n",
       "      <td>11.321148</td>\n",
       "    </tr>\n",
       "    <tr>\n",
       "      <th>769</th>\n",
       "      <td>42.415622</td>\n",
       "      <td>0.919609</td>\n",
       "      <td>11.356063</td>\n",
       "    </tr>\n",
       "    <tr>\n",
       "      <th>770</th>\n",
       "      <td>42.830658</td>\n",
       "      <td>1.351990</td>\n",
       "      <td>11.456892</td>\n",
       "    </tr>\n",
       "  </tbody>\n",
       "</table>\n",
       "<p>771 rows × 3 columns</p>\n",
       "</div>"
      ],
      "text/plain": [
       "             x         y   velocity\n",
       "0    42.830658  1.351990  11.456892\n",
       "1    43.245876  1.783983  11.522280\n",
       "2    43.661491  2.215725  11.586708\n",
       "3    44.077569  2.647209  11.650178\n",
       "4    44.493867  3.078159  11.711809\n",
       "..         ...       ...        ...\n",
       "766  41.172777 -0.379459  11.180252\n",
       "767  41.586688  0.053944  11.251745\n",
       "768  42.000973  0.486962  11.321148\n",
       "769  42.415622  0.919609  11.356063\n",
       "770  42.830658  1.351990  11.456892\n",
       "\n",
       "[771 rows x 3 columns]"
      ]
     },
     "execution_count": 5,
     "metadata": {},
     "output_type": "execute_result"
    }
   ],
   "source": [
    "raw_data = pd.read_csv(\"outputs/traj_race_cl-2023-02-15 07:10:52.616204.csv\")\n",
    "raw_data"
   ]
  },
  {
   "cell_type": "code",
   "execution_count": 6,
   "metadata": {},
   "outputs": [
    {
     "data": {
      "text/plain": [
       "[<matplotlib.lines.Line2D at 0x7f7320991f40>]"
      ]
     },
     "execution_count": 6,
     "metadata": {},
     "output_type": "execute_result"
    },
    {
     "data": {
      "image/png": "[encoded data removed]",
      "text/plain": [
       "<Figure size 432x288 with 1 Axes>"
      ]
     },
     "metadata": {
      "needs_background": "light"
     },
     "output_type": "display_data"
    }
   ],
   "source": [
    "plt.plot(raw_data[\"x\"], raw_data[\"y\"])"
   ]
  },
  {
   "cell_type": "code",
   "execution_count": 7,
   "metadata": {},
   "outputs": [],
   "source": [
    "waypoints = []"
   ]
  },
  {
   "cell_type": "code",
   "execution_count": 8,
   "metadata": {},
   "outputs": [
    {
     "data": {
      "text/html": [
       "<div>\n",
       "<style scoped>\n",
       "    .dataframe tbody tr th:only-of-type {\n",
       "        vertical-align: middle;\n",
       "    }\n",
       "\n",
       "    .dataframe tbody tr th {\n",
       "        vertical-align: top;\n",
       "    }\n",
       "\n",
       "    .dataframe thead th {\n",
       "        text-align: right;\n",
       "    }\n",
       "</style>\n",
       "<table border=\"1\" class=\"dataframe\">\n",
       "  <thead>\n",
       "    <tr style=\"text-align: right;\">\n",
       "      <th></th>\n",
       "      <th># x_m</th>\n",
       "      <th>y_m</th>\n",
       "      <th>w_tr_right_m</th>\n",
       "      <th>w_tr_left_m</th>\n",
       "    </tr>\n",
       "  </thead>\n",
       "  <tbody>\n",
       "    <tr>\n",
       "      <th>0</th>\n",
       "      <td>43.202</td>\n",
       "      <td>1.038880</td>\n",
       "      <td>1.12348</td>\n",
       "      <td>0.84696</td>\n",
       "    </tr>\n",
       "    <tr>\n",
       "      <th>1</th>\n",
       "      <td>43.390</td>\n",
       "      <td>1.242940</td>\n",
       "      <td>1.08400</td>\n",
       "      <td>0.87252</td>\n",
       "    </tr>\n",
       "    <tr>\n",
       "      <th>2</th>\n",
       "      <td>43.528</td>\n",
       "      <td>1.394580</td>\n",
       "      <td>1.08446</td>\n",
       "      <td>0.87474</td>\n",
       "    </tr>\n",
       "    <tr>\n",
       "      <th>3</th>\n",
       "      <td>43.666</td>\n",
       "      <td>1.546180</td>\n",
       "      <td>1.08456</td>\n",
       "      <td>0.87678</td>\n",
       "    </tr>\n",
       "    <tr>\n",
       "      <th>4</th>\n",
       "      <td>43.806</td>\n",
       "      <td>1.697740</td>\n",
       "      <td>1.08440</td>\n",
       "      <td>0.87846</td>\n",
       "    </tr>\n",
       "    <tr>\n",
       "      <th>...</th>\n",
       "      <td>...</td>\n",
       "      <td>...</td>\n",
       "      <td>...</td>\n",
       "      <td>...</td>\n",
       "    </tr>\n",
       "    <tr>\n",
       "      <th>2361</th>\n",
       "      <td>42.408</td>\n",
       "      <td>0.168622</td>\n",
       "      <td>1.08204</td>\n",
       "      <td>0.88314</td>\n",
       "    </tr>\n",
       "    <tr>\n",
       "      <th>2362</th>\n",
       "      <td>42.548</td>\n",
       "      <td>0.321580</td>\n",
       "      <td>1.08296</td>\n",
       "      <td>0.88290</td>\n",
       "    </tr>\n",
       "    <tr>\n",
       "      <th>2363</th>\n",
       "      <td>42.688</td>\n",
       "      <td>0.474920</td>\n",
       "      <td>1.08378</td>\n",
       "      <td>0.88254</td>\n",
       "    </tr>\n",
       "    <tr>\n",
       "      <th>2364</th>\n",
       "      <td>42.828</td>\n",
       "      <td>0.628560</td>\n",
       "      <td>1.12368</td>\n",
       "      <td>0.85366</td>\n",
       "    </tr>\n",
       "    <tr>\n",
       "      <th>2365</th>\n",
       "      <td>43.016</td>\n",
       "      <td>0.834040</td>\n",
       "      <td>1.12362</td>\n",
       "      <td>0.85260</td>\n",
       "    </tr>\n",
       "  </tbody>\n",
       "</table>\n",
       "<p>2366 rows × 4 columns</p>\n",
       "</div>"
      ],
      "text/plain": [
       "       # x_m       y_m  w_tr_right_m  w_tr_left_m\n",
       "0     43.202  1.038880       1.12348      0.84696\n",
       "1     43.390  1.242940       1.08400      0.87252\n",
       "2     43.528  1.394580       1.08446      0.87474\n",
       "3     43.666  1.546180       1.08456      0.87678\n",
       "4     43.806  1.697740       1.08440      0.87846\n",
       "...      ...       ...           ...          ...\n",
       "2361  42.408  0.168622       1.08204      0.88314\n",
       "2362  42.548  0.321580       1.08296      0.88290\n",
       "2363  42.688  0.474920       1.08378      0.88254\n",
       "2364  42.828  0.628560       1.12368      0.85366\n",
       "2365  43.016  0.834040       1.12362      0.85260\n",
       "\n",
       "[2366 rows x 4 columns]"
      ]
     },
     "execution_count": 8,
     "metadata": {},
     "output_type": "execute_result"
    }
   ],
   "source": [
    "berlin_map = pd.read_csv(\"inputs/tracks/berlin_2018.csv\")\n",
    "small_berlin_map = berlin_map * 0.2\n",
    "# small_berlin_map[\"# x_m\"] = small_berlin_map[\"# x_m\"]* 0.1\n",
    "# small_berlin_map[\"y_m\"] = small_berlin_map[\"y_m\"]* 0.1\n",
    "small_berlin_map"
   ]
  },
  {
   "cell_type": "code",
   "execution_count": 9,
   "metadata": {},
   "outputs": [],
   "source": [
    "small_berlin_map.to_csv(\"f110_berlin.csv\", index=False)"
   ]
  },
  {
   "cell_type": "code",
   "execution_count": null,
   "metadata": {},
   "outputs": [],
   "source": []
  }
 ],
 "metadata": {
  "kernelspec": {
   "display_name": "Python 3",
   "language": "python",
   "name": "python3"
  },
  "language_info": {
   "name": "python",
   "version": "3.9.16"
  },
  "orig_nbformat": 4,
  "vscode": {
   "interpreter": {
    "hash": "36cf16204b8548560b1c020c4e8fb5b57f0e4c58016f52f2d4be01e192833930"
   }
  }
 },
 "nbformat": 4,
 "nbformat_minor": 2
}
