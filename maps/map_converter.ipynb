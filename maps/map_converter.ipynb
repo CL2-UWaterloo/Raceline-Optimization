{
 "cells": [
  {
   "attachments": {},
   "cell_type": "markdown",
   "metadata": {},
   "source": [
    "# Map Converter\n",
    "This is a Jupyter Notebook to Convert a `.png` or `.pgm` + `.yaml` of a map into a `.csv` that can be fed into the TUMFTM functions.\n",
    "\n",
    "Here is a high level overview of how this works:\n",
    "1. We load the image and extract the left and right edges of the track\n",
    "2. Associate inner lines with outer lines\n",
    "3. Apply the right transformations\n",
    "\n",
    "We need to generate the following 4 columns:`x_m,y_m,w_tr_right_m,w_tr_left_m`\n",
    "\n",
    "Maps supported:\n",
    "- Black and white\n",
    "- White and black\n",
    "\n",
    "We can automatically detect what kind of map it is. \n",
    "\n",
    "Map Conditions:\n",
    "- Map must be aligned somewhat in the center of the image (i.e. cannot just be in the top left, else algorithm will not find edges)\n",
    "- Map should be closed and clean\n",
    "\n",
    "You still need to manually check the map to make sure it is correct.\n",
    "- Just check the starting positions, sometimes that doesn't work"
   ]
  },
  {
   "cell_type": "code",
   "execution_count": 436,
   "metadata": {},
   "outputs": [],
   "source": [
    "import numpy as np\n",
    "import matplotlib.pyplot as plt\n",
    "import yaml\n",
    "from scipy.ndimage import distance_transform_edt as edt\n",
    "from PIL import Image\n",
    "import os"
   ]
  },
  {
   "cell_type": "code",
   "execution_count": 437,
   "metadata": {},
   "outputs": [],
   "source": [
    "MAP_NAME = \"Spielberg_map\""
   ]
  },
  {
   "cell_type": "code",
   "execution_count": 439,
   "metadata": {},
   "outputs": [],
   "source": [
    "# Modified from https://github.com/CL2-UWaterloo/Head-to-Head-Autonomous-Racing/blob/main/gym/f110_gym/envs/laser_models.py\n",
    "# load map image\n",
    "\n",
    "if os.path.exists(f\"{MAP_NAME}.png\"):\n",
    "    map_img_path = f\"{MAP_NAME}.png\"\n",
    "elif os.path.exists(f\"{MAP_NAME}.pgm\"):\n",
    "    map_img_path = f\"{MAP_NAME}.pgm\"\n",
    "else:\n",
    "    raise Exception(\"Map not found!\")\n",
    "\n",
    "map_yaml_path = f\"{MAP_NAME}.yaml\"\n",
    "map_img = np.array(Image.open(map_img_path).transpose(Image.FLIP_TOP_BOTTOM))\n",
    "map_img = map_img.astype(np.float64)\n",
    "\n",
    "# grayscale -> binary\n",
    "map_img[map_img <= 128.] = 0.\n",
    "map_img[map_img > 128.] = 255.\n",
    "\n",
    "map_height = map_img.shape[0]\n",
    "map_width = map_img.shape[1]\n",
    "\n",
    "\n"
   ]
  },
  {
   "cell_type": "code",
   "execution_count": 440,
   "metadata": {},
   "outputs": [
    {
     "data": {
      "text/plain": [
       "<matplotlib.image.AxesImage at 0x7fc51e8d6430>"
      ]
     },
     "execution_count": 440,
     "metadata": {},
     "output_type": "execute_result"
    },
    {
     "data": {
      "image/png": "[encoded data removed]",
      "text/plain": [
       "<Figure size 432x288 with 1 Axes>"
      ]
     },
     "metadata": {
      "needs_background": "light"
     },
     "output_type": "display_data"
    }
   ],
   "source": [
    "plt.imshow(map_img, cmap='Blues')"
   ]
  },
  {
   "cell_type": "code",
   "execution_count": 441,
   "metadata": {},
   "outputs": [
    {
     "name": "stdout",
     "output_type": "stream",
     "text": [
      "Non-edge value: 255\n",
      "Starting position for left edge: 508 1000\n"
     ]
    }
   ],
   "source": [
    "NON_EDGE = np.bincount(map_img.ravel().astype(np.int64)).argmax()\n",
    "print(f\"Non-edge value: {NON_EDGE}\")\n",
    "# Use DFS to extract the outer edge\n",
    "left_start_y = map_height // 2\n",
    "left_start_x = 0\n",
    "while (map_img[left_start_y][left_start_x] == NON_EDGE): \n",
    "\tleft_start_x += 1\n",
    "\n",
    "print(f\"Starting position for left edge: {left_start_x} {left_start_y}\")"
   ]
  },
  {
   "attachments": {},
   "cell_type": "markdown",
   "metadata": {},
   "source": [
    "Solution is to do a smart DFS, in the direction of the current search. First consider options in the direction of the current search, then consider options in the opposite direction (exclude exactly oppposite direction). \n",
    "- Was trying to only do 90 degrees max, but then there are edge cases where that doesn't work\n",
    "\n",
    "Termination condition? \n",
    "- If you hit a pixel that has already been visited, then you have found the end of the track.\n",
    "\n",
    "Things that were tried:\n",
    "- Naive BFS/DFS: If you set the termination condition to having visited all edge nodes, you have no guarantees on the order of the pixels. BFS doesn't give you the order of track progress. DFS does, but in the case of multiple pixels, you don't want to capture that information.\n",
    "\t-  Which is why we set the termination condition to visiting a visited node"
   ]
  },
  {
   "cell_type": "code",
   "execution_count": 452,
   "metadata": {},
   "outputs": [],
   "source": [
    "import sys\n",
    "sys.setrecursionlimit(20000)\n",
    "\n",
    "# [0, 0] is in the top left corner\n",
    "NORTH = [0, -1]\n",
    "NORTH_EAST = [1, -1]\n",
    "EAST = [1, 0]\n",
    "SOUTH_EAST = [1, 1]\n",
    "SOUTH = [0, 1]\n",
    "SOUTH_WEST = [-1, 1]\n",
    "WEST = [-1, 0]\n",
    "NORTH_WEST = [-1, -1]\n",
    "\n",
    "HEADINGS = [NORTH, NORTH_EAST, EAST, SOUTH_EAST, SOUTH, SOUTH_WEST, WEST, NORTH_WEST]\n",
    "HEADINGS_KEY = [[NORTH, NORTH_WEST, NORTH_EAST, WEST, EAST, SOUTH_WEST, SOUTH_EAST], #NORTH\n",
    "\t\t\t\t[NORTH_EAST, NORTH, EAST, NORTH_WEST, SOUTH_EAST, SOUTH, SOUTH_WEST], #NORTH_EAST\n",
    "\t\t\t\t[EAST, NORTH_EAST, SOUTH_EAST, NORTH, SOUTH, WEST, NORTH_WEST], #EAST\n",
    "\t\t\t\t[SOUTH_EAST, EAST, SOUTH, NORTH_EAST, SOUTH_WEST, NORTH, NORTH_WEST], #SOUTH_EAST\n",
    "\t\t\t\t[SOUTH, SOUTH_EAST, SOUTH_WEST, EAST, WEST, NORTH_EAST, NORTH_WEST], #SOUTH\n",
    "\t\t\t\t[SOUTH_WEST, SOUTH, WEST, SOUTH_EAST, NORTH_WEST, EAST, NORTH_EAST], #SOUTH_WEST\n",
    "\t\t\t\t[WEST, SOUTH_WEST, NORTH_WEST, SOUTH, NORTH, SOUTH_EAST, NORTH_EAST], #WEST\n",
    "\t\t\t\t[NORTH_WEST, WEST, NORTH, SOUTH_WEST, NORTH_EAST, SOUTH, SOUTH_EAST]] #NORTH_WEST\n",
    "# HEADINGS_KEY = [[NORTH, NORTH_EAST, EAST, SOUTH_EAST, SOUTH, SOUTH_WEST, WEST, NORTH_WEST], #NORTH\n",
    "# \t\t\t\t[NORTH_EAST, EAST, SOUTH_EAST, SOUTH, SOUTH_WEST, WEST, NORTH_WEST, NORTH], #NORTH_EAST\n",
    "# \t\t\t\t[EAST, SOUTH_EAST, SOUTH, SOUTH_WEST, WEST, NORTH_WEST, NORTH, NORTH_EAST], #EAST\n",
    "# \t\t\t\t[SOUTH_EAST, SOUTH, SOUTH_WEST, WEST, NORTH_WEST, NORTH, NORTH_EAST, EAST], #SOUTH_EAST\n",
    "# \t\t\t\t[SOUTH, SOUTH_WEST, WEST, NORTH_WEST, NORTH, NORTH_EAST, EAST, SOUTH_EAST], #SOUTH\n",
    "# \t\t\t\t[SOUTH_WEST, WEST, NORTH_WEST, NORTH, NORTH_EAST, EAST, SOUTH_EAST, SOUTH], #SOUTH_WEST\n",
    "# \t\t\t\t[WEST, NORTH_WEST, NORTH, NORTH_EAST, EAST, SOUTH_EAST, SOUTH, SOUTH_WEST], #WEST\n",
    "# \t\t\t\t[NORTH_WEST, NORTH, NORTH_EAST, EAST, SOUTH_EAST, SOUTH, SOUTH_WEST, WEST]] #NORTH_WEST\n",
    "\n",
    "def dfs(x, y, prev_x, prev_y, map_img, edge_img, edge_array, debug=False):\n",
    "\tif debug:\n",
    "\t\tprint(f\"Visiting {x} {y}, prev: {prev_x} {prev_y}\")\n",
    "\tif edge_img[y][x] == 255: # If visited already\n",
    "\t\treturn (x,y)\n",
    "\n",
    "\tedge_img[y][x] = 255 # Mark as visited\n",
    "\tedge_array.append(np.array([x, y]))\n",
    "\n",
    "\theading = [x-prev_x, y-prev_y]\n",
    "\tif heading not in HEADINGS: # Check if heading is in there\n",
    "\t\traise Exception(f\"Invalid map, must be a gap of 1, heading: {heading}\")\n",
    "\n",
    "\theading_idx = HEADINGS.index(heading)\n",
    "\tfound = False\n",
    "\n",
    "\t# Search in a clockwise fashion\n",
    "\tfor new_heading in HEADINGS_KEY[heading_idx]:\n",
    "\t\tnew_x = x + new_heading[0]\n",
    "\t\tnew_y = y + new_heading[1]\n",
    "\n",
    "\t\tif (map_img[new_y][new_x] != NON_EDGE):\n",
    "\t\t\treturn dfs(new_x, new_y, x, y, map_img, edge_img, edge_array, debug)\n",
    "\t\t\t\n",
    "\tif not found:\n",
    "\t\traise Exception(\"could not find closest pixel\")\n",
    "\t\n"
   ]
  },
  {
   "cell_type": "code",
   "execution_count": 453,
   "metadata": {},
   "outputs": [
    {
     "name": "stdout",
     "output_type": "stream",
     "text": [
      "Number of left edges found: 5577\n"
     ]
    }
   ],
   "source": [
    "left_edge_img = np.zeros(map_img.shape)\n",
    "left_edge_array = []\n",
    "# left_end_x, left_end_y = dfs(left_start_x, left_start_y, left_start_x, left_start_y-1, map_img, left_edge_img, left_edge_array)\n",
    "left_end_x, left_end_y = dfs(left_start_x, left_start_y+1, left_start_x, left_start_y, map_img, left_edge_img, left_edge_array)\n",
    "print(f\"Number of left edges found: {len(left_edge_array)}\")"
   ]
  },
  {
   "cell_type": "code",
   "execution_count": 454,
   "metadata": {},
   "outputs": [
    {
     "name": "stdout",
     "output_type": "stream",
     "text": [
      "Starting position for right edge: 554 1000\n"
     ]
    }
   ],
   "source": [
    "# Sweep across the right until we run into an edge\n",
    "right_start_x = left_start_x\n",
    "right_start_y = left_start_y\n",
    "while (map_img[right_start_y][right_start_x] != NON_EDGE): \n",
    "\tright_start_x += 1\n",
    "\n",
    "while (map_img[right_start_y][right_start_x] == NON_EDGE): # Get to the right edge\n",
    "\tright_start_x += 1\n",
    "\n",
    "print(f\"Starting position for right edge: {right_start_x} {right_start_y}\")"
   ]
  },
  {
   "cell_type": "code",
   "execution_count": 455,
   "metadata": {},
   "outputs": [
    {
     "name": "stdout",
     "output_type": "stream",
     "text": [
      "Number of right edges found: 5337\n"
     ]
    }
   ],
   "source": [
    "right_edge_img = np.zeros(map_img.shape)\n",
    "right_edge_array = []\n",
    "right_end_x, right_end_y = dfs(right_start_x, right_start_y, right_start_x, right_start_y-1, map_img, right_edge_img, right_edge_array) \n",
    "right_end_x, right_end_y = dfs(right_start_x, right_start_y+1, right_start_x, right_start_y, map_img, right_edge_img, right_edge_array)\n",
    "print(f\"Number of right edges found: {len(right_edge_array)}\")"
   ]
  },
  {
   "cell_type": "code",
   "execution_count": 456,
   "metadata": {},
   "outputs": [
    {
     "data": {
      "image/png": "[encoded data removed]",
      "text/plain": [
       "<Figure size 1440x288 with 4 Axes>"
      ]
     },
     "metadata": {
      "needs_background": "light"
     },
     "output_type": "display_data"
    }
   ],
   "source": [
    "fig, (ax1,ax2,ax3, ax4) = plt.subplots(1, 4, figsize=(20,4))\n",
    "ax1.axis('off')\n",
    "ax2.axis('off')\n",
    "ax3.axis('off')\n",
    "ax4.axis('off')\n",
    "left_img = np.zeros(map_img.shape)\n",
    "for x,y in left_edge_array[:1000]:\n",
    "\tleft_img[y][x] = 255\n",
    "\n",
    "ax1.imshow(left_img, cmap='Greys', vmax=1)\n",
    "ax1.set_title(\"First 1000 points\")\n",
    "left_img = np.zeros(map_img.shape)\n",
    "for x,y in left_edge_array[:2000]:\n",
    "\tleft_img[y][x] = 255\n",
    "\n",
    "ax2.imshow(left_img, cmap='Greys', vmax=1)\n",
    "ax2.set_title(\"First 2000 points\")\n",
    "left_img = np.zeros(map_img.shape)\n",
    "for x,y in left_edge_array[:3000]:\n",
    "\tleft_img[y][x] = 255\n",
    "\n",
    "ax3.imshow(left_img, cmap='Greys', vmax=1)\n",
    "ax3.set_title(\"First 3000 points\")\n",
    "left_img = np.zeros(map_img.shape)\n",
    "for x,y in left_edge_array:\n",
    "\tleft_img[y][x] = 1000\n",
    "\n",
    "ax4.imshow(left_img, cmap='Greys', vmax=1)\n",
    "ax4.set_title(\"All points\")\n",
    "fig.tight_layout()"
   ]
  },
  {
   "cell_type": "code",
   "execution_count": 457,
   "metadata": {},
   "outputs": [
    {
     "data": {
      "image/png": "[encoded data removed]",
      "text/plain": [
       "<Figure size 1440x288 with 4 Axes>"
      ]
     },
     "metadata": {
      "needs_background": "light"
     },
     "output_type": "display_data"
    }
   ],
   "source": [
    "fig, (ax1,ax2,ax3, ax4) = plt.subplots(1, 4, figsize=(20,4))\n",
    "ax1.axis('off')\n",
    "ax2.axis('off')\n",
    "ax3.axis('off')\n",
    "ax4.axis('off')\n",
    "right_img = np.zeros(map_img.shape)\n",
    "for x,y in right_edge_array[:1000]:\n",
    "\tright_img[y][x] = 255\n",
    "\n",
    "ax1.imshow(right_img, cmap='Greys', vmax=1)\n",
    "ax1.set_title(\"First 1000 points\")\n",
    "right_img = np.zeros(map_img.shape)\n",
    "for x,y in right_edge_array[:2000]:\n",
    "\tright_img[y][x] = 255\n",
    "\n",
    "ax2.imshow(right_img, cmap='Greys', vmax=1)\n",
    "ax2.set_title(\"First 2000 points\")\n",
    "right_img = np.zeros(map_img.shape)\n",
    "for x,y in right_edge_array[:3000]:\n",
    "\tright_img[y][x] = 255\n",
    "\n",
    "ax3.imshow(right_img, cmap='Greys', vmax=1)\n",
    "ax3.set_title(\"First 3000 points\")\n",
    "right_img = np.zeros(map_img.shape)\n",
    "for x,y in right_edge_array:\n",
    "\tright_img[y][x] = 1000\n",
    "\n",
    "ax4.imshow(right_img, cmap='Greys', vmax=1)\n",
    "ax4.set_title(\"All points\")\n",
    "fig.tight_layout()"
   ]
  },
  {
   "cell_type": "code",
   "execution_count": 461,
   "metadata": {},
   "outputs": [
    {
     "name": "stdout",
     "output_type": "stream",
     "text": [
      "Number of midpoints: 5577\n"
     ]
    }
   ],
   "source": [
    "# Association\n",
    "data = []\n",
    "midpoints = []\n",
    "track_widths = []\n",
    "left_right_ratio = len(right_edge_array) / len(left_edge_array)\n",
    "for i in range(len(left_edge_array)):\n",
    "\tleft_edge_point = left_edge_array[i]\n",
    "\tright_edge_point = right_edge_array[int(i * left_right_ratio)]\n",
    "\tmidpoint = (left_edge_point + right_edge_point) // 2\n",
    "\ttrack_widths.append(np.array([np.linalg.norm(left_edge_point - midpoint), np.linalg.norm(right_edge_point - midpoint)]))\n",
    "\tmidpoints.append(midpoint)\n",
    "\n",
    "print(f\"Number of midpoints: {len(midpoints)}\")"
   ]
  },
  {
   "cell_type": "code",
   "execution_count": 462,
   "metadata": {},
   "outputs": [
    {
     "data": {
      "image/png": "[encoded data removed]",
      "text/plain": [
       "<Figure size 1440x288 with 4 Axes>"
      ]
     },
     "metadata": {
      "needs_background": "light"
     },
     "output_type": "display_data"
    }
   ],
   "source": [
    "fig, (ax1,ax2,ax3, ax4) = plt.subplots(1, 4, figsize=(20,4))\n",
    "ax1.axis('off')\n",
    "ax2.axis('off')\n",
    "ax3.axis('off')\n",
    "ax4.axis('off')\n",
    "midpoint_img = np.zeros(map_img.shape)\n",
    "for x,y in midpoints[:1000]:\n",
    "\tmidpoint_img[y][x] = 255\n",
    "\n",
    "ax1.imshow(midpoint_img, cmap='Greys', vmax=1)\n",
    "ax1.set_title(\"First 1000 points\")\n",
    "midpoint_img = np.zeros(map_img.shape)\n",
    "for x,y in midpoints[:2000]:\n",
    "\tmidpoint_img[y][x] = 255\n",
    "\n",
    "ax2.imshow(midpoint_img, cmap='Greys', vmax=1)\n",
    "ax2.set_title(\"First 2000 points\")\n",
    "midpoint_img = np.zeros(map_img.shape)\n",
    "for x,y in midpoints[:3000]:\n",
    "\tmidpoint_img[y][x] = 255\n",
    "\n",
    "ax3.imshow(midpoint_img, cmap='Greys', vmax=1)\n",
    "ax3.set_title(\"First 3000 points\")\n",
    "midpoint_img = np.zeros(map_img.shape)\n",
    "for x,y in midpoints:\n",
    "\tmidpoint_img[y][x] = 1000\n",
    "\n",
    "ax4.imshow(midpoint_img, cmap='Greys', vmax=1)\n",
    "ax4.set_title(\"All points\")\n",
    "fig.tight_layout()"
   ]
  },
  {
   "attachments": {},
   "cell_type": "markdown",
   "metadata": {},
   "source": [
    "# Conversion\n",
    "Convert into Pandas, and go from pixels to meters, and then shift by the origin."
   ]
  },
  {
   "cell_type": "code",
   "execution_count": 473,
   "metadata": {},
   "outputs": [
    {
     "name": "stdout",
     "output_type": "stream",
     "text": [
      "Track widths shape: (5577, 2), waypoints shape: (5577, 2)\n"
     ]
    }
   ],
   "source": [
    "track_widths_np = np.array(track_widths)\n",
    "waypoints = np.array(midpoints)\n",
    "print(f\"Track widths shape: {track_widths_np.shape}, waypoints shape: {waypoints.shape}\")"
   ]
  },
  {
   "cell_type": "code",
   "execution_count": 474,
   "metadata": {},
   "outputs": [
    {
     "data": {
      "text/plain": [
       "(5577, 4)"
      ]
     },
     "execution_count": 474,
     "metadata": {},
     "output_type": "execute_result"
    }
   ],
   "source": [
    "# Merge track with waypoints\n",
    "data = np.concatenate((waypoints, track_widths_np), axis=1)\n",
    "data.shape"
   ]
  },
  {
   "cell_type": "code",
   "execution_count": 477,
   "metadata": {},
   "outputs": [],
   "source": [
    "\n",
    "# load map yaml\n",
    "with open(map_yaml_path, 'r') as yaml_stream:\n",
    "    try:\n",
    "        map_metadata = yaml.safe_load(yaml_stream)\n",
    "        map_resolution = map_metadata['resolution']\n",
    "        origin = map_metadata['origin']\n",
    "    except yaml.YAMLError as ex:\n",
    "        print(ex)\n",
    "\n",
    "# calculate map parameters\n",
    "orig_x = origin[0]\n",
    "orig_y = origin[1]\n",
    "# ??? Should be 0\n",
    "orig_s = np.sin(origin[2])\n",
    "orig_c = np.cos(origin[2])\n",
    "\n",
    "# get the distance transform\n",
    "transformed_data = data\n",
    "transformed_data *= map_resolution\n",
    "transformed_data += np.array([orig_x, orig_y, 0, 0])"
   ]
  },
  {
   "cell_type": "code",
   "execution_count": 479,
   "metadata": {},
   "outputs": [],
   "source": [
    "with open(f\"{MAP_NAME}.csv\", 'wb') as fh:\n",
    "    np.savetxt(fh, transformed_data, fmt='%0.4f', delimiter=',', header='x_m,y_m,w_tr_right_m,w_tr_left_m')"
   ]
  },
  {
   "cell_type": "code",
   "execution_count": null,
   "metadata": {},
   "outputs": [],
   "source": []
  }
 ],
 "metadata": {
  "kernelspec": {
   "display_name": "Python 3",
   "language": "python",
   "name": "python3"
  },
  "language_info": {
   "codemirror_mode": {
    "name": "ipython",
    "version": 3
   },
   "file_extension": ".py",
   "mimetype": "text/x-python",
   "name": "python",
   "nbconvert_exporter": "python",
   "pygments_lexer": "ipython3",
   "version": "3.8.10"
  },
  "orig_nbformat": 4,
  "vscode": {
   "interpreter": {
    "hash": "36cf16204b8548560b1c020c4e8fb5b57f0e4c58016f52f2d4be01e192833930"
   }
  }
 },
 "nbformat": 4,
 "nbformat_minor": 2
}
