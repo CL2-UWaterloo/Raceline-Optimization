{
 "cells": [
  {
   "attachments": {},
   "cell_type": "markdown",
   "metadata": {},
   "source": [
    "# Sanity Check\n",
    "Sanity check the `map_converter.ipynb`."
   ]
  },
  {
   "cell_type": "code",
   "execution_count": 13,
   "metadata": {
    "vscode": {
     "languageId": "python"
    }
   },
   "outputs": [],
   "source": [
    "import numpy as np\n",
    "import matplotlib.pyplot as plt\n",
    "import yaml\n",
    "from scipy.ndimage import distance_transform_edt as edt\n",
    "from PIL import Image\n",
    "import os\n",
    "import pandas as pd"
   ]
  },
  {
   "cell_type": "code",
   "execution_count": 14,
   "metadata": {
    "vscode": {
     "languageId": "python"
    }
   },
   "outputs": [],
   "source": [
    "MAP_NAME = \"Spielberg_map\""
   ]
  },
  {
   "cell_type": "code",
   "execution_count": 16,
   "metadata": {
    "vscode": {
     "languageId": "python"
    }
   },
   "outputs": [
    {
     "data": {
      "text/html": [
       "<div>\n",
       "<style scoped>\n",
       "    .dataframe tbody tr th:only-of-type {\n",
       "        vertical-align: middle;\n",
       "    }\n",
       "\n",
       "    .dataframe tbody tr th {\n",
       "        vertical-align: top;\n",
       "    }\n",
       "\n",
       "    .dataframe thead th {\n",
       "        text-align: right;\n",
       "    }\n",
       "</style>\n",
       "<table border=\"1\" class=\"dataframe\">\n",
       "  <thead>\n",
       "    <tr style=\"text-align: right;\">\n",
       "      <th></th>\n",
       "      <th># x_m</th>\n",
       "      <th>y_m</th>\n",
       "      <th>w_tr_right_m</th>\n",
       "      <th>w_tr_left_m</th>\n",
       "    </tr>\n",
       "  </thead>\n",
       "  <tbody>\n",
       "    <tr>\n",
       "      <th>0</th>\n",
       "      <td>-54.0768</td>\n",
       "      <td>21.6570</td>\n",
       "      <td>1.3343</td>\n",
       "      <td>1.3331</td>\n",
       "    </tr>\n",
       "    <tr>\n",
       "      <th>1</th>\n",
       "      <td>-54.0768</td>\n",
       "      <td>21.7150</td>\n",
       "      <td>1.3343</td>\n",
       "      <td>1.3343</td>\n",
       "    </tr>\n",
       "    <tr>\n",
       "      <th>2</th>\n",
       "      <td>-54.0768</td>\n",
       "      <td>21.7729</td>\n",
       "      <td>1.3343</td>\n",
       "      <td>1.3343</td>\n",
       "    </tr>\n",
       "    <tr>\n",
       "      <th>3</th>\n",
       "      <td>-54.0768</td>\n",
       "      <td>21.8309</td>\n",
       "      <td>1.3343</td>\n",
       "      <td>1.3343</td>\n",
       "    </tr>\n",
       "    <tr>\n",
       "      <th>4</th>\n",
       "      <td>-54.0768</td>\n",
       "      <td>21.8888</td>\n",
       "      <td>1.3343</td>\n",
       "      <td>1.3343</td>\n",
       "    </tr>\n",
       "    <tr>\n",
       "      <th>...</th>\n",
       "      <td>...</td>\n",
       "      <td>...</td>\n",
       "      <td>...</td>\n",
       "      <td>...</td>\n",
       "    </tr>\n",
       "    <tr>\n",
       "      <th>5572</th>\n",
       "      <td>-54.0189</td>\n",
       "      <td>21.5411</td>\n",
       "      <td>1.3343</td>\n",
       "      <td>1.3331</td>\n",
       "    </tr>\n",
       "    <tr>\n",
       "      <th>5573</th>\n",
       "      <td>-54.0189</td>\n",
       "      <td>21.5990</td>\n",
       "      <td>1.3343</td>\n",
       "      <td>1.3331</td>\n",
       "    </tr>\n",
       "    <tr>\n",
       "      <th>5574</th>\n",
       "      <td>-54.0189</td>\n",
       "      <td>21.6570</td>\n",
       "      <td>1.3343</td>\n",
       "      <td>1.3331</td>\n",
       "    </tr>\n",
       "    <tr>\n",
       "      <th>5575</th>\n",
       "      <td>-54.0189</td>\n",
       "      <td>21.7150</td>\n",
       "      <td>1.3343</td>\n",
       "      <td>1.3331</td>\n",
       "    </tr>\n",
       "    <tr>\n",
       "      <th>5576</th>\n",
       "      <td>-54.0189</td>\n",
       "      <td>21.7729</td>\n",
       "      <td>1.3343</td>\n",
       "      <td>1.3331</td>\n",
       "    </tr>\n",
       "  </tbody>\n",
       "</table>\n",
       "<p>5577 rows × 4 columns</p>\n",
       "</div>"
      ],
      "text/plain": [
       "        # x_m      y_m  w_tr_right_m  w_tr_left_m\n",
       "0    -54.0768  21.6570        1.3343       1.3331\n",
       "1    -54.0768  21.7150        1.3343       1.3343\n",
       "2    -54.0768  21.7729        1.3343       1.3343\n",
       "3    -54.0768  21.8309        1.3343       1.3343\n",
       "4    -54.0768  21.8888        1.3343       1.3343\n",
       "...       ...      ...           ...          ...\n",
       "5572 -54.0189  21.5411        1.3343       1.3331\n",
       "5573 -54.0189  21.5990        1.3343       1.3331\n",
       "5574 -54.0189  21.6570        1.3343       1.3331\n",
       "5575 -54.0189  21.7150        1.3343       1.3331\n",
       "5576 -54.0189  21.7729        1.3343       1.3331\n",
       "\n",
       "[5577 rows x 4 columns]"
      ]
     },
     "execution_count": 16,
     "metadata": {},
     "output_type": "execute_result"
    }
   ],
   "source": [
    "raw_data = pd.read_csv(f\"{MAP_NAME}.csv\")\n",
    "raw_data"
   ]
  },
  {
   "cell_type": "code",
   "execution_count": 18,
   "metadata": {
    "vscode": {
     "languageId": "python"
    }
   },
   "outputs": [
    {
     "data": {
      "text/plain": [
       "array([[-52.7437, -52.7425, -52.7425, ..., -52.6858, -52.6858, -52.6858],\n",
       "       [-52.7425, -52.7425, -52.7425, ..., -52.6846, -52.6846, -52.6846]])"
      ]
     },
     "execution_count": 18,
     "metadata": {},
     "output_type": "execute_result"
    }
   ],
   "source": [
    "left_edges = np.array([raw_data[\"# x_m\"].values + raw_data[\"w_tr_left_m\"].values, raw_data[\"# x_m\"].values + raw_data[\"w_tr_right_m\"].values])\n",
    "left_edges"
   ]
  },
  {
   "cell_type": "code",
   "execution_count": null,
   "metadata": {
    "vscode": {
     "languageId": "python"
    }
   },
   "outputs": [],
   "source": [
    "# Taken from `main_globaltraj.py` TODO\n",
    "# get bound of imported map (for reference in final plot)\n",
    "bound1_imp = None\n",
    "bound2_imp = None\n",
    "\n",
    "# try to extract four times as many points as in the interpolated version (in order to hold more details)\n",
    "n_skip = max(int(reftrack_imp.shape[0] / (bound1.shape[0] * 4)), 1)\n",
    "\n",
    "_, _, _, normvec_imp = tph.calc_splines.calc_splines(path=np.vstack((reftrack_imp[::n_skip, 0:2],\n",
    "\t\t\t\t\t\t\t\t\t\t\t\t\t\t\t\t\t\treftrack_imp[0, 0:2])))\n",
    "\n",
    "bound1_imp = reftrack_imp[::n_skip, :2] + normvec_imp * np.expand_dims(reftrack_imp[::n_skip, 2], 1)\n",
    "bound2_imp = reftrack_imp[::n_skip, :2] - normvec_imp * np.expand_dims(reftrack_imp[::n_skip, 3], 1)\n"
   ]
  }
 ],
 "metadata": {
  "kernelspec": {
   "display_name": "Python 3",
   "language": "python",
   "name": "python3"
  },
  "orig_nbformat": 4,
  "vscode": {
   "interpreter": {
    "hash": "36cf16204b8548560b1c020c4e8fb5b57f0e4c58016f52f2d4be01e192833930"
   }
  }
 },
 "nbformat": 4,
 "nbformat_minor": 2
}
